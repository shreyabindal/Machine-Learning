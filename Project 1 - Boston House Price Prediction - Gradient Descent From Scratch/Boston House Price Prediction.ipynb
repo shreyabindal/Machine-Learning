{
 "cells": [
  {
   "cell_type": "code",
   "execution_count": 92,
   "metadata": {},
   "outputs": [],
   "source": [
    "import numpy as np\n",
    "import pandas as pd\n",
    "from sklearn.model_selection import train_test_split\n",
    "from sklearn.preprocessing import StandardScaler\n",
    "from sklearn import datasets\n",
    "import math"
   ]
  },
  {
   "cell_type": "code",
   "execution_count": 93,
   "metadata": {},
   "outputs": [],
   "source": [
    "data = np.genfromtxt('boston_train.csv', delimiter=',')\n",
    "x_test = np.genfromtxt('boston_test.csv', delimiter=',')"
   ]
  },
  {
   "cell_type": "code",
   "execution_count": 94,
   "metadata": {},
   "outputs": [
    {
     "data": {
      "text/plain": [
       "((379, 13), (379,))"
      ]
     },
     "execution_count": 94,
     "metadata": {},
     "output_type": "execute_result"
    }
   ],
   "source": [
    "x_train = data[:, :-1]\n",
    "y_train = data[:, -1]\n",
    "x = x_train\n",
    "x_train.shape, y_train.shape"
   ]
  },
  {
   "cell_type": "code",
   "execution_count": 95,
   "metadata": {},
   "outputs": [],
   "source": [
    "def addFeatures2Degree(x):  #X1^2 X2^2 ... 2Degree\n",
    "    df = pd.DataFrame(x)\n",
    "    i = 0\n",
    "    l = len(df.columns)\n",
    "\n",
    "    while i < l:\n",
    "        j = i\n",
    "        while j < l:\n",
    "            string = str(df.columns[i]) + \"*\" + str(df.columns[j])\n",
    "            df[string] = df[df.columns[i]] * df[df.columns[j]]\n",
    "            j += 1\n",
    "        i += 1\n",
    "    len(df.columns)\n",
    "\n",
    "    return np.array(df)"
   ]
  },
  {
   "cell_type": "code",
   "execution_count": 99,
   "metadata": {},
   "outputs": [],
   "source": [
    "def addFeatures3Degree(x):\n",
    "    df_train = pd.DataFrame(x)\n",
    "    i = 0\n",
    "    n = len(df_train.columns)\n",
    "    l = df_train.columns\n",
    "    while i < n:\n",
    "        j = i\n",
    "        while j < n:\n",
    "            df_train[str(l[i]) + '*' + str(l[j])] = df_train[l[i]]*df_train[l[j]]\n",
    "            k = j\n",
    "            while k < n:\n",
    "                df_train[str(l[i]) + '*' + str(l[j]) + '*' + str(l[j])] = df_train[l[i]]*df_train[l[j]]*df_train[l[k]]\n",
    "                k += 1\n",
    "            j += 1\n",
    "        i += 1\n",
    "    return np.array(df_train)"
   ]
  },
  {
   "cell_type": "code",
   "execution_count": 100,
   "metadata": {},
   "outputs": [],
   "source": [
    "def addFeaturesPowers(x, k=10):\n",
    "    df = pd.DataFrame(x)\n",
    "    \n",
    "    for i in range(len(df.columns)):\n",
    "        string = str(df.columns[i])\n",
    "        x = df[df.columns[i]]\n",
    "        for j in range(2, k+1):\n",
    "            string += '*' + str(df.columns[i])\n",
    "            x = x*df[df.columns[i]]\n",
    "            df[string] = x\n",
    "    \n",
    "    return np.array(df)"
   ]
  },
  {
   "cell_type": "code",
   "execution_count": 101,
   "metadata": {},
   "outputs": [
    {
     "data": {
      "text/plain": [
       "((379, 195), (127, 195))"
      ]
     },
     "execution_count": 101,
     "metadata": {},
     "output_type": "execute_result"
    }
   ],
   "source": [
    "# x_train = addFeatures2Degree(x_train)\n",
    "# x_test = addFeatures2Degree(x_test)\n",
    "x_train = addFeatures3Degree(x_train)\n",
    "x_test = addFeatures3Degree(x_test)\n",
    "x_train.shape, x_test.shape"
   ]
  },
  {
   "cell_type": "code",
   "execution_count": 102,
   "metadata": {},
   "outputs": [],
   "source": [
    "scaler = StandardScaler()\n",
    "x_train = scaler.fit_transform(x_train)\n",
    "x_test = scaler.transform(x_test)"
   ]
  },
  {
   "cell_type": "code",
   "execution_count": 103,
   "metadata": {},
   "outputs": [],
   "source": [
    "x_train = np.insert(x_train, 0, 1, axis=1)\n",
    "x_test = np.insert(x_test, 0, 1, axis=1)"
   ]
  },
  {
   "cell_type": "code",
   "execution_count": 104,
   "metadata": {},
   "outputs": [],
   "source": [
    "def cost(x, y, coef):\n",
    "    return ((y - x.dot(coef))**2).mean()"
   ]
  },
  {
   "cell_type": "code",
   "execution_count": 105,
   "metadata": {},
   "outputs": [],
   "source": [
    "def score(x_test, y_test, m):\n",
    "    y_pred = predict(x_test, m)\n",
    "    num = np.sum((y_pred - y_test) ** 2, axis=0)\n",
    "    den = np.sum((y_test - y_test.mean()) ** 2, axis=0)\n",
    "    return 1 - num/den"
   ]
  },
  {
   "cell_type": "code",
   "execution_count": 106,
   "metadata": {},
   "outputs": [],
   "source": [
    "def predict(x_test, m):\n",
    "    return x_test.dot(m)"
   ]
  },
  {
   "cell_type": "code",
   "execution_count": 113,
   "metadata": {},
   "outputs": [],
   "source": [
    "def step_gradient(x, y, learning_rate, m):\n",
    "    k = x.shape[0]\n",
    "    slope_m = np.zeros(x.shape[1])\n",
    "    for i in range(k):\n",
    "        slope_m += (2/k)*x[i]*(x[i].dot(m) - y[i])\n",
    "        if i%10 == 0 or i == k-1:\n",
    "            m = m - learning_rate*slope_m\n",
    "            slope_m = np.zeros(x.shape[1])\n",
    "    return m"
   ]
  },
  {
   "cell_type": "code",
   "execution_count": 114,
   "metadata": {},
   "outputs": [],
   "source": [
    "def gradient_descent(x, y, learning_rate=0.001, num_iter=1000):\n",
    "    coef = np.zeros((x.shape[1],))\n",
    "    \n",
    "    print(\"start : \", cost(x, y, coef))\n",
    "    \n",
    "    for i in range(num_iter):\n",
    "        coef = step_gradient(x, y, learning_rate, coef)\n",
    "        if i % (num_iter//10) == 0:\n",
    "            print(i, \" : \", cost(x, y, coef))\n",
    "            \n",
    "    print(\"end : \", cost(x, y, coef))\n",
    "    \n",
    "    return coef"
   ]
  },
  {
   "cell_type": "code",
   "execution_count": 115,
   "metadata": {},
   "outputs": [],
   "source": [
    "def run(x, y):\n",
    "    learning_rate = 0.01\n",
    "    num_iter = 400\n",
    "    return gradient_descent(x, y, learning_rate, num_iter)"
   ]
  },
  {
   "cell_type": "code",
   "execution_count": 116,
   "metadata": {},
   "outputs": [
    {
     "name": "stdout",
     "output_type": "stream",
     "text": [
      "start :  599.1222691292876\n",
      "0  :  545.2646864676817\n",
      "40  :  110.59257582746504\n",
      "80  :  29.652181639055105\n",
      "120  :  12.831153539431487\n",
      "160  :  9.058788506012867\n",
      "200  :  8.014903609925472\n",
      "240  :  7.584705879904285\n",
      "280  :  7.320540636666123\n",
      "320  :  7.1194205047968975\n",
      "360  :  6.952657790223098\n",
      "end :  6.812623545779593\n"
     ]
    }
   ],
   "source": [
    "m = run(x_train, y_train)"
   ]
  },
  {
   "cell_type": "code",
   "execution_count": 117,
   "metadata": {},
   "outputs": [
    {
     "data": {
      "text/plain": [
       "array([ 2.25994351e+01, -8.64390635e-02,  2.30965240e-01, -1.63372544e-01,\n",
       "        4.92888544e-01, -4.84747828e-01,  2.31483780e+00, -2.88042274e-01,\n",
       "       -9.65065568e-01,  4.77084400e-01, -4.91028567e-01, -6.68288440e-01,\n",
       "        3.12805012e-01, -1.00756739e+00,  3.39104305e-02,  1.52030811e-01,\n",
       "       -6.45990745e-02,  6.74368297e-02,  2.21705112e-02, -8.49991139e-02,\n",
       "        9.97949326e-01, -4.51355903e-01, -7.42802883e-02, -3.24124421e-01,\n",
       "       -7.57159224e-02,  2.90588461e-01,  1.19738009e-01, -1.99575477e-02,\n",
       "        9.37278175e-02, -3.10037699e-02, -2.32375531e-01, -6.57642333e-02,\n",
       "        4.50897998e-02, -9.84756980e-02,  7.28056644e-02, -1.16917406e-01,\n",
       "        2.07705974e-01, -3.81429221e-01,  5.09623486e-02,  9.10439920e-02,\n",
       "       -3.14648378e-02, -1.35834717e-01, -1.53699537e-02,  1.58718824e-01,\n",
       "       -9.51480429e-02, -1.41128416e-02,  1.61940317e-01,  9.50713076e-02,\n",
       "       -1.83744681e-01,  6.01940222e-02, -4.31812826e-02,  4.35775293e-01,\n",
       "       -2.59124008e-02, -9.64632481e-04, -1.31258113e-01, -4.52039499e-03,\n",
       "        5.64898210e-01, -1.04278135e-01,  8.88094841e-02, -1.12243638e-01,\n",
       "       -5.70154399e-02, -7.54315625e-02,  2.72181358e-01, -2.03737356e-01,\n",
       "        4.17773571e-01, -7.11989612e-01, -1.94527551e-01,  9.87915752e-02,\n",
       "        2.14810796e-01, -3.92927558e-01,  1.28508649e-02, -1.82246346e-02,\n",
       "        1.96551203e-01, -4.47754573e-01,  4.15346402e-01,  3.11240404e-01,\n",
       "       -2.42882677e-01, -3.63981954e-02,  9.69619305e-02, -7.21574252e-01,\n",
       "       -9.40099523e-02,  5.77301058e-01, -2.46823373e-02, -2.32032913e-01,\n",
       "       -3.31452913e-01,  5.99365111e-01,  4.92888544e-01, -4.99241785e-01,\n",
       "       -6.27192098e-01,  3.32191303e-01, -8.06110237e-01,  4.41822497e-01,\n",
       "        1.14735164e-01,  6.05048832e-02, -6.76899866e-02,  6.74188999e-02,\n",
       "       -3.94732510e-02, -1.56722095e-01,  1.28800106e-02, -1.26199615e-02,\n",
       "        3.89854891e-01,  9.47113827e-02,  6.63724021e-02, -3.20896395e-01,\n",
       "       -2.24551779e-01,  4.17000239e-01, -3.05362845e-01,  1.27569559e-01,\n",
       "        4.44174309e-02,  3.97624023e-01, -2.55550145e-01, -1.17597838e-01,\n",
       "        2.71744951e-01,  1.13035562e-01, -5.04527505e-01, -1.75538320e-01,\n",
       "       -1.52225237e-01, -4.17325978e-01, -4.15692580e-01, -4.81830470e-02,\n",
       "       -2.12741224e-01,  2.01444268e-01,  9.36006394e-02, -2.24981055e-02,\n",
       "        5.09713074e-02,  4.49207247e-02, -4.48547298e-01,  6.60309324e-01,\n",
       "        7.39666330e-02,  3.25275170e-02, -6.91123399e-01,  3.51236796e-01,\n",
       "       -6.54773753e-01,  4.70524495e-01, -7.70621364e-01,  8.83254248e-01,\n",
       "       -7.16169539e-02, -9.44022715e-02, -1.73837571e+00, -4.29528006e-02,\n",
       "        1.58583559e-01, -4.74593615e-01, -1.95727380e-04, -1.49457847e-01,\n",
       "        6.62261652e-01,  1.30196757e-01,  2.06217115e-01,  1.31030741e-02,\n",
       "       -2.90548642e-01, -1.20742378e-01, -4.03688178e-01, -4.63212158e-01,\n",
       "       -6.84876034e-01,  3.43504343e-01,  4.39359902e-01, -2.73476491e-01,\n",
       "       -2.98107086e-01,  2.45175450e-01, -9.21684395e-02,  4.50491874e-01,\n",
       "       -8.48943384e-02, -1.30200452e-03, -4.64930848e-01,  2.51740038e-01,\n",
       "        7.67179111e-01, -9.91123926e-01, -4.31799629e-01, -2.36924819e-01,\n",
       "        2.05228212e-01, -3.04064802e-01,  3.00946673e-01, -8.06411046e-02,\n",
       "        1.01697917e-01, -2.06984202e-01, -3.41481893e-01,  6.36153828e-01,\n",
       "        3.47905392e-01, -6.58472388e-01,  6.53347250e-01, -7.92834828e-02,\n",
       "       -1.17187722e-01, -2.01515412e-01, -1.89790768e-01,  5.66484257e-01,\n",
       "       -4.05003192e-01, -2.16668666e-01,  5.08458547e-03,  6.09353199e-02,\n",
       "       -3.74841592e-02, -1.52872711e-01, -6.31117472e-01, -1.25505452e-01,\n",
       "       -9.25694757e-02,  2.37684744e-01,  7.97144012e-01, -2.09527299e-03])"
      ]
     },
     "execution_count": 117,
     "metadata": {},
     "output_type": "execute_result"
    }
   ],
   "source": [
    "m"
   ]
  },
  {
   "cell_type": "code",
   "execution_count": 118,
   "metadata": {},
   "outputs": [
    {
     "data": {
      "text/plain": [
       "array([15.82662544, 28.18652236, 19.44646796, 22.06767934, 21.08959975,\n",
       "       14.54236929, 27.78229772, 23.79240438, 17.7445855 , 21.07021807,\n",
       "       23.17875008, 17.1813805 , 19.21825674, 20.76525163, 44.74860501,\n",
       "       21.33264666, 22.84855877, 25.80322458, 18.98130237, 30.87391322,\n",
       "       21.75173557, 21.82412697, 38.41244628, 35.25941821, 33.80569295,\n",
       "       19.14238361, 20.55421556, 27.40572523, 20.09297177, 28.69504601,\n",
       "       17.35770818, 23.05834424, 21.83734162, 23.85567948, 10.28581298,\n",
       "       26.16199476, 23.97682951, 19.28926464, 21.52193938, 11.96395324,\n",
       "       11.41841371, 25.68341484, 23.92067015, 19.82440083, 20.04172477,\n",
       "        7.66880335, 44.9119614 , 23.93165087, 35.48910884, 12.15408956,\n",
       "       16.69453183, 46.4230918 , 12.66872034, 20.11239203, 15.86170666,\n",
       "       21.29817315, 19.49314894, 22.45784938, 15.39632344, 14.35364401,\n",
       "       11.05132063, 26.80621948, 22.77807195, 24.02787866, 16.3463275 ,\n",
       "       13.1087922 , 34.06929757, 14.01627538, 21.90396895, 22.45349297,\n",
       "       28.28873089, 24.8310154 , 17.28346284,  5.61998576, 38.9205245 ,\n",
       "       24.80151563, 26.85033899, 25.64279739, 11.87313763, 30.83923756,\n",
       "       19.22297945, 20.42430243, 19.76840878, 11.80547803, 16.29136615,\n",
       "       33.33535819, 25.93407932,  7.48001199, 21.31163533, 18.33663126,\n",
       "       20.24810013, 20.16660193, 19.98082263, 10.35892352, 18.21182374,\n",
       "       30.04991154, 48.6626188 , 18.94134735, 36.46727181, 21.82590487,\n",
       "       20.67913937, 20.65614497, 23.2224945 , 30.06395876, 13.53697722,\n",
       "       23.44015527, 18.9505713 , 44.22294461, 21.12801948, 15.91069821,\n",
       "       25.03372041, 10.53609294, 19.49443875, 20.21205048, 44.94295617,\n",
       "       18.04972624, 20.11111836, 24.57528047, 19.21007646, 17.5718801 ,\n",
       "       14.20230349, 35.42560777, 19.12412479, 21.17128301, 19.83203554,\n",
       "       19.60193689, 13.98693817])"
      ]
     },
     "execution_count": 118,
     "metadata": {},
     "output_type": "execute_result"
    }
   ],
   "source": [
    "y_pred = predict(x_test, m)\n",
    "y_pred"
   ]
  },
  {
   "cell_type": "code",
   "execution_count": 119,
   "metadata": {},
   "outputs": [
    {
     "data": {
      "text/plain": [
       "0.922524694308928"
      ]
     },
     "execution_count": 119,
     "metadata": {},
     "output_type": "execute_result"
    }
   ],
   "source": [
    "score(x_train, y_train, m)"
   ]
  },
  {
   "cell_type": "code",
   "execution_count": 120,
   "metadata": {},
   "outputs": [],
   "source": [
    "np.savetxt('test_boston_y_test.csv', y_pred, delimiter=',')"
   ]
  },
  {
   "cell_type": "code",
   "execution_count": null,
   "metadata": {},
   "outputs": [],
   "source": []
  },
  {
   "cell_type": "code",
   "execution_count": null,
   "metadata": {},
   "outputs": [],
   "source": []
  }
 ],
 "metadata": {
  "kernelspec": {
   "display_name": "Python 3",
   "language": "python",
   "name": "python3"
  },
  "language_info": {
   "codemirror_mode": {
    "name": "ipython",
    "version": 3
   },
   "file_extension": ".py",
   "mimetype": "text/x-python",
   "name": "python",
   "nbconvert_exporter": "python",
   "pygments_lexer": "ipython3",
   "version": "3.6.5"
  }
 },
 "nbformat": 4,
 "nbformat_minor": 2
}
