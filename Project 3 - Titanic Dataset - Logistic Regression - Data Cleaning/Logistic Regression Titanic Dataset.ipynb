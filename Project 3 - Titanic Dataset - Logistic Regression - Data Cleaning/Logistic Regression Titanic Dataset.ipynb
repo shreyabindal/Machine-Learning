{
 "cells": [
  {
   "cell_type": "code",
   "execution_count": 1,
   "metadata": {},
   "outputs": [],
   "source": [
    "import numpy as np\n",
    "import pandas as pd\n",
    "import re\n",
    "from sklearn.linear_model import LogisticRegression\n",
    "from sklearn.preprocessing import StandardScaler"
   ]
  },
  {
   "cell_type": "code",
   "execution_count": 2,
   "metadata": {},
   "outputs": [],
   "source": [
    "def addFeatures(df):\n",
    "    i = 0\n",
    "    l = len(df.columns)\n",
    "    while i < l:\n",
    "        j = i\n",
    "        while j < l:\n",
    "            string = str(df.columns[i]) + \"*\" + str(df.columns[j])\n",
    "            df[string] = df[df.columns[i]] * df[df.columns[j]]\n",
    "            k = j\n",
    "            while k < l:\n",
    "                string = str(df.columns[i]) + \"*\" + str(df.columns[j]) + \"*\" + str(df.columns[k])\n",
    "                df[string] = df[df.columns[i]] * df[df.columns[j]] * df[df.columns[k]]\n",
    "                k += 1\n",
    "            j += 1\n",
    "        i += 1\n",
    "    return df"
   ]
  },
  {
   "cell_type": "code",
   "execution_count": 3,
   "metadata": {},
   "outputs": [],
   "source": [
    "def data_preprocessing(x):\n",
    "    deck = {'A' : 1, 'B' : 2, 'C' : 3, 'D' : 4, 'E' : 5, 'F' : 6, 'G' : 7, 'U' : 8}\n",
    "    x.Cabin = x.Cabin.fillna('U0')\n",
    "    x['Deck'] = x['Cabin'].map(lambda i: re.compile(\"([a-zA-Z]+)\").search(i).group())\n",
    "    x['Deck'] = x['Deck'].map(deck)\n",
    "    x['Deck'] = x.Deck.fillna(0)\n",
    "    x['Deck'] = x['Deck'].astype(int)\n",
    "    del x['Cabin']\n",
    "    \n",
    "    mean = x.Age.mean()\n",
    "    std = x.Age.std()\n",
    "    is_null = x.Age.isnull().sum()\n",
    "    rand_age = np.random.randint(mean - std, mean + std, size = is_null)\n",
    "    copy = x.Age.copy()\n",
    "    copy[np.isnan(copy)] = rand_age\n",
    "    x.Age = copy\n",
    "    x.Age = x.Age.astype(int)\n",
    "    x['Age'] = x.Age.fillna(0)\n",
    "    \n",
    "    x.Embarked = x.Embarked.fillna('S')\n",
    "    x.Fare = x.Fare.astype(int)\n",
    "    \n",
    "    titles = {\"Mr\": 1, \"Miss\": 2, \"Mrs\": 3, \"Master\": 4, \"Rare\": 5}\n",
    "    x['Title'] = x.Name.str.extract(' ([A-Za-z]+)\\.', expand=False)\n",
    "    x.Title = x.Title.replace('Mlle', 'Miss')\n",
    "    x.Title = x.Title.replace('Ms', 'Miss')\n",
    "    x.Title = x.Title.replace('Mme', 'Mrs')\n",
    "    \n",
    "    l_to_replace = []\n",
    "    for i in np.array(x.Title):\n",
    "        if i not in titles:\n",
    "            l_to_replace.append(i)\n",
    "            \n",
    "    x.Title = x.Title.replace(l_to_replace, 'Rare')\n",
    "    x.Title = x.Title.map(titles)\n",
    "    x.Title = x.Title.fillna(0)\n",
    "    del x['Name']\n",
    "    genders = {'male' : 0, 'female' : 1}\n",
    "    x.Sex = x.Sex.map(genders)\n",
    "    del x['Ticket']\n",
    "    ports = {\"S\": 0, \"C\": 1, \"Q\": 2}\n",
    "    x.Embarked = x.Embarked.map(ports)\n",
    "    \n",
    "    return x"
   ]
  },
  {
   "cell_type": "code",
   "execution_count": 4,
   "metadata": {},
   "outputs": [
    {
     "name": "stderr",
     "output_type": "stream",
     "text": [
      "c:\\program files\\python36\\lib\\site-packages\\sklearn\\utils\\validation.py:595: DataConversionWarning: Data with input dtype int64 was converted to float64 by StandardScaler.\n",
      "  warnings.warn(msg, DataConversionWarning)\n",
      "c:\\program files\\python36\\lib\\site-packages\\sklearn\\utils\\validation.py:595: DataConversionWarning: Data with input dtype int64 was converted to float64 by StandardScaler.\n",
      "  warnings.warn(msg, DataConversionWarning)\n"
     ]
    }
   ],
   "source": [
    "data = pd.read_csv('train.csv')\n",
    "x, y = data.iloc[:, :-1], data.iloc[:, -1]\n",
    "# del x['Name']\n",
    "# del x['Ticket']\n",
    "# del x['Cabin']\n",
    "# x = pd.get_dummies(x)\n",
    "# x = x.fillna(0)\n",
    "x = data_preprocessing(x)\n",
    "x = addFeatures(x)\n",
    "x = np.array(x)\n",
    "scaler = StandardScaler()\n",
    "x = scaler.fit_transform(x)"
   ]
  },
  {
   "cell_type": "code",
   "execution_count": 5,
   "metadata": {},
   "outputs": [
    {
     "data": {
      "text/plain": [
       "0.8592814371257484"
      ]
     },
     "execution_count": 5,
     "metadata": {},
     "output_type": "execute_result"
    }
   ],
   "source": [
    "clf = LogisticRegression(solver='liblinear')\n",
    "clf.fit(x, y)\n",
    "clf.score(x, y)"
   ]
  },
  {
   "cell_type": "code",
   "execution_count": 6,
   "metadata": {},
   "outputs": [
    {
     "name": "stderr",
     "output_type": "stream",
     "text": [
      "c:\\program files\\python36\\lib\\site-packages\\sklearn\\utils\\validation.py:595: DataConversionWarning: Data with input dtype int64 was converted to float64 by StandardScaler.\n",
      "  warnings.warn(msg, DataConversionWarning)\n"
     ]
    }
   ],
   "source": [
    "x_test = pd.read_csv('test.csv')\n",
    "# del x_test['Name']\n",
    "# del x_test['Ticket']\n",
    "# del x_test['Cabin']\n",
    "# x_test = pd.get_dummies(x_test)\n",
    "# x_test = x_test.fillna(0)\n",
    "x_test = data_preprocessing(x_test)\n",
    "x_test = addFeatures(x_test)\n",
    "x_test = np.array(x_test)\n",
    "x_test = scaler.transform(x_test)"
   ]
  },
  {
   "cell_type": "code",
   "execution_count": 7,
   "metadata": {},
   "outputs": [],
   "source": [
    "y_pred = clf.predict(x_test)"
   ]
  },
  {
   "cell_type": "code",
   "execution_count": 8,
   "metadata": {},
   "outputs": [],
   "source": [
    "np.savetxt('y_test.csv', y_pred, delimiter=',') "
   ]
  },
  {
   "cell_type": "code",
   "execution_count": null,
   "metadata": {},
   "outputs": [],
   "source": []
  },
  {
   "cell_type": "code",
   "execution_count": null,
   "metadata": {},
   "outputs": [],
   "source": []
  }
 ],
 "metadata": {
  "kernelspec": {
   "display_name": "Python 3",
   "language": "python",
   "name": "python3"
  },
  "language_info": {
   "codemirror_mode": {
    "name": "ipython",
    "version": 3
   },
   "file_extension": ".py",
   "mimetype": "text/x-python",
   "name": "python",
   "nbconvert_exporter": "python",
   "pygments_lexer": "ipython3",
   "version": "3.6.5"
  }
 },
 "nbformat": 4,
 "nbformat_minor": 2
}
