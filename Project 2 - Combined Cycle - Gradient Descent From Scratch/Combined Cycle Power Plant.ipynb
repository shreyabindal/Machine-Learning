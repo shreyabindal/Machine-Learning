{
 "cells": [
  {
   "cell_type": "code",
   "execution_count": 88,
   "metadata": {},
   "outputs": [],
   "source": [
    "import numpy as np\n",
    "import pandas as pd\n",
    "from sklearn.model_selection import train_test_split\n",
    "from sklearn.preprocessing import StandardScaler\n",
    "from sklearn import datasets"
   ]
  },
  {
   "cell_type": "code",
   "execution_count": 89,
   "metadata": {},
   "outputs": [],
   "source": [
    "data = np.genfromtxt('train.csv', delimiter=',')\n",
    "x_test = np.genfromtxt('test.csv', delimiter=',')"
   ]
  },
  {
   "cell_type": "code",
   "execution_count": 90,
   "metadata": {},
   "outputs": [
    {
     "data": {
      "text/plain": [
       "((7176, 4), (7176,))"
      ]
     },
     "execution_count": 90,
     "metadata": {},
     "output_type": "execute_result"
    }
   ],
   "source": [
    "x_train = data[:, :-1]\n",
    "y_train = data[:, -1]\n",
    "x_train.shape, y_train.shape"
   ]
  },
  {
   "cell_type": "code",
   "execution_count": 91,
   "metadata": {},
   "outputs": [],
   "source": [
    "def addFeatures3Degree(x):\n",
    "    df_train = pd.DataFrame(x)\n",
    "    i = 0\n",
    "    n = len(df_train.columns)\n",
    "    l = df_train.columns\n",
    "    while i < n:\n",
    "        j = i\n",
    "        while j < n:\n",
    "            df_train[str(l[i]) + '*' + str(l[j])] = df_train[l[i]]*df_train[l[j]]\n",
    "            k = j\n",
    "            while k < n:\n",
    "                df_train[str(l[i]) + '*' + str(l[j]) + '*' + str(l[k])] = df_train[l[i]]*df_train[l[j]]*df_train[l[k]]\n",
    "                p = j\n",
    "                while p < n:\n",
    "                    df_train[str(l[i]) + '*' + str(l[j]) + '*' + str(l[k]) + '*' + str(l[p])] = df_train[l[i]]*df_train[l[j]]*df_train[l[k]]*df_train[l[p]]\n",
    "                    p += 1\n",
    "                k += 1\n",
    "            j += 1\n",
    "        i += 1\n",
    "    return np.array(df_train)"
   ]
  },
  {
   "cell_type": "code",
   "execution_count": null,
   "metadata": {},
   "outputs": [],
   "source": []
  },
  {
   "cell_type": "code",
   "execution_count": 92,
   "metadata": {},
   "outputs": [],
   "source": [
    "x_train = addFeatures3Degree(x_train)\n",
    "x_test = addFeatures3Degree(x_test)"
   ]
  },
  {
   "cell_type": "code",
   "execution_count": 93,
   "metadata": {},
   "outputs": [
    {
     "data": {
      "text/plain": [
       "((7176, 84), (2392, 84))"
      ]
     },
     "execution_count": 93,
     "metadata": {},
     "output_type": "execute_result"
    }
   ],
   "source": [
    "x_train.shape, x_test.shape"
   ]
  },
  {
   "cell_type": "code",
   "execution_count": 94,
   "metadata": {},
   "outputs": [],
   "source": [
    "scaler = StandardScaler()\n",
    "x_train = scaler.fit_transform(x_train)\n",
    "x_test = scaler.transform(x_test)"
   ]
  },
  {
   "cell_type": "code",
   "execution_count": 95,
   "metadata": {},
   "outputs": [],
   "source": [
    "x_train = np.insert(x_train, 0, 1, axis=1)\n",
    "x_test = np.insert(x_test, 0, 1, axis=1)"
   ]
  },
  {
   "cell_type": "code",
   "execution_count": 96,
   "metadata": {},
   "outputs": [],
   "source": [
    "def cost(x, y, coef):\n",
    "    return ((y - x.dot(coef))**2).mean()"
   ]
  },
  {
   "cell_type": "code",
   "execution_count": 97,
   "metadata": {},
   "outputs": [],
   "source": [
    "def score(x_test, y_test, m):\n",
    "        y_pred = predict(x_test, m)\n",
    "        num = np.sum((y_pred - y_test) ** 2, axis=0)\n",
    "        den = np.sum((y_test - y_test.mean()) ** 2, axis=0)\n",
    "        return 1 - num/den"
   ]
  },
  {
   "cell_type": "code",
   "execution_count": 98,
   "metadata": {},
   "outputs": [],
   "source": [
    "def predict(x_test, m):\n",
    "    return x_test.dot(m)"
   ]
  },
  {
   "cell_type": "code",
   "execution_count": 109,
   "metadata": {},
   "outputs": [],
   "source": [
    "def step_gradient(x, y, learning_rate, m):\n",
    "    k = x.shape[0]\n",
    "    l = x.shape[1]\n",
    "    slope_m = np.zeros(l)\n",
    "    for i in range(k):\n",
    "        for j in range(l):\n",
    "            slope_m[j] += (2/k)*x[i][j]*((x[i].dot(m)) - y[i])\n",
    "        if i%20 == 0 or i == k-1:\n",
    "            m = m - learning_rate*slope_m\n",
    "            slope_m = np.zeros(l)\n",
    "    return m"
   ]
  },
  {
   "cell_type": "code",
   "execution_count": 110,
   "metadata": {},
   "outputs": [],
   "source": [
    "def gradient_descent(x, y, learning_rate=0.001, num_iter=1000):\n",
    "    coef = np.zeros((x.shape[1],))\n",
    "    \n",
    "    print(\"start : \", cost(x, y, coef))\n",
    "    \n",
    "    for i in range(num_iter):\n",
    "        coef = step_gradient(x, y, learning_rate, coef)\n",
    "        if i % (num_iter//10) == 0:\n",
    "            print(i, \" : \", cost(x, y, coef))\n",
    "    return coef"
   ]
  },
  {
   "cell_type": "code",
   "execution_count": 111,
   "metadata": {},
   "outputs": [],
   "source": [
    "def run(x, y):\n",
    "    learning_rate = 0.1\n",
    "    num_iter = 100\n",
    "    return gradient_descent(x, y, learning_rate, num_iter)"
   ]
  },
  {
   "cell_type": "code",
   "execution_count": 112,
   "metadata": {},
   "outputs": [
    {
     "name": "stdout",
     "output_type": "stream",
     "text": [
      "start :  206801.35285512818\n",
      "0  :  138435.06416141335\n",
      "10  :  2547.6335252494164\n",
      "20  :  65.55825204682368\n",
      "30  :  19.874377963488524\n",
      "40  :  18.9227892349825\n",
      "50  :  18.856335245470007\n",
      "60  :  18.82668056841477\n",
      "70  :  18.805100182037062\n",
      "80  :  18.78715720840602\n",
      "90  :  18.771480941215348\n"
     ]
    }
   ],
   "source": [
    "m = run(x_train, y_train)"
   ]
  },
  {
   "cell_type": "code",
   "execution_count": 117,
   "metadata": {},
   "outputs": [
    {
     "data": {
      "text/plain": [
       "array([ 4.54428596e+02, -1.95811087e+00, -7.00965985e-01,  2.61768309e-01,\n",
       "        5.24688645e-01, -1.01521018e+00, -1.27694404e-01,  6.34371342e-01,\n",
       "        7.40106737e-01, -9.14626008e-02,  7.31711975e-01, -6.36682756e-02,\n",
       "        7.40106737e-01,  6.65374964e-01, -3.01519552e-02,  6.36547757e-01,\n",
       "       -9.76360333e-01, -9.14626008e-02, -3.01519552e-02, -9.37657439e-01,\n",
       "       -1.92705368e-01, -2.27108126e-01,  7.31711975e-01,  6.36547757e-01,\n",
       "       -1.92705368e-01,  2.60990260e-01, -8.43371294e-01, -1.13318402e-01,\n",
       "        4.67638161e-01, -8.29195375e-02,  4.11309666e-01, -8.08553099e-01,\n",
       "       -8.29195375e-02, -7.73972933e-01, -1.61842188e-01, -1.88317628e-01,\n",
       "        4.11309666e-01, -1.61842188e-01,  1.22539995e-01, -1.92310507e+00,\n",
       "       -1.88842004e+00, -1.85408049e+00, -1.06735176e+00, -1.08451071e+00,\n",
       "       -1.06735176e+00, -4.74080956e-01, -1.10242202e+00, -4.72472219e-01,\n",
       "       -2.39223574e-01, -4.55841445e-01, -1.39342941e-01,  2.29407841e-01,\n",
       "       -1.12423401e-01,  1.87984812e-01, -4.25335817e-01, -1.12423401e-01,\n",
       "       -3.95262020e-01, -9.59074544e-03, -2.58190700e-02,  1.87984812e-01,\n",
       "       -9.59074544e-03,  1.64239928e-02, -6.67485312e-01, -6.34921938e-01,\n",
       "       -6.03354532e-01, -1.59357305e-02, -1.48585396e-02, -1.59357305e-02,\n",
       "       -4.96894911e-02, -1.55147932e-02, -2.76745142e-02, -2.21689261e-01,\n",
       "        2.18759964e-01,  1.75602226e-01,  1.32298568e-01,  3.72831996e-01,\n",
       "        4.26068586e-01,  3.72831996e-01,  3.66155775e-02,  4.76740178e-01,\n",
       "        8.99256730e-02, -2.57998429e-01,  1.41908613e-01, -2.03904246e-01,\n",
       "       -5.15622917e-01])"
      ]
     },
     "execution_count": 117,
     "metadata": {},
     "output_type": "execute_result"
    }
   ],
   "source": [
    "m"
   ]
  },
  {
   "cell_type": "code",
   "execution_count": 118,
   "metadata": {},
   "outputs": [
    {
     "data": {
      "text/plain": [
       "0.9360971365499177"
      ]
     },
     "execution_count": 118,
     "metadata": {},
     "output_type": "execute_result"
    }
   ],
   "source": [
    "score(x_train, y_train, m)"
   ]
  },
  {
   "cell_type": "code",
   "execution_count": 119,
   "metadata": {},
   "outputs": [
    {
     "data": {
      "text/plain": [
       "array([471.14135153, 472.57449158, 434.011007  , ..., 437.37543254,\n",
       "       450.34622272, 445.69529471])"
      ]
     },
     "execution_count": 119,
     "metadata": {},
     "output_type": "execute_result"
    }
   ],
   "source": [
    "y_pred = predict(x_test, m)\n",
    "y_pred"
   ]
  },
  {
   "cell_type": "code",
   "execution_count": 120,
   "metadata": {},
   "outputs": [],
   "source": [
    "np.savetxt('y_test.csv', y_pred, delimiter=',')"
   ]
  },
  {
   "cell_type": "code",
   "execution_count": null,
   "metadata": {},
   "outputs": [],
   "source": []
  }
 ],
 "metadata": {
  "kernelspec": {
   "display_name": "Python 3",
   "language": "python",
   "name": "python3"
  },
  "language_info": {
   "codemirror_mode": {
    "name": "ipython",
    "version": 3
   },
   "file_extension": ".py",
   "mimetype": "text/x-python",
   "name": "python",
   "nbconvert_exporter": "python",
   "pygments_lexer": "ipython3",
   "version": "3.6.5"
  }
 },
 "nbformat": 4,
 "nbformat_minor": 2
}
